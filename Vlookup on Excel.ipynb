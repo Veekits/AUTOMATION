{
 "cells": [
  {
   "cell_type": "code",
   "execution_count": 1,
   "id": "dd457fff",
   "metadata": {},
   "outputs": [],
   "source": [
    "import pandas as pd"
   ]
  },
  {
   "cell_type": "code",
   "execution_count": 2,
   "id": "eaf1248d",
   "metadata": {
    "scrolled": true
   },
   "outputs": [
    {
     "data": {
      "text/html": [
       "<div>\n",
       "<style scoped>\n",
       "    .dataframe tbody tr th:only-of-type {\n",
       "        vertical-align: middle;\n",
       "    }\n",
       "\n",
       "    .dataframe tbody tr th {\n",
       "        vertical-align: top;\n",
       "    }\n",
       "\n",
       "    .dataframe thead th {\n",
       "        text-align: right;\n",
       "    }\n",
       "</style>\n",
       "<table border=\"1\" class=\"dataframe\">\n",
       "  <thead>\n",
       "    <tr style=\"text-align: right;\">\n",
       "      <th></th>\n",
       "      <th>SUPPLIER</th>\n",
       "      <th>BP Code</th>\n",
       "    </tr>\n",
       "  </thead>\n",
       "  <tbody>\n",
       "    <tr>\n",
       "      <th>0</th>\n",
       "      <td>AFRICA (Sky) HOLDINGS LTD</td>\n",
       "      <td>C0000002</td>\n",
       "    </tr>\n",
       "    <tr>\n",
       "      <th>1</th>\n",
       "      <td>AIRTEL NETWORKS KENYA LIMITED</td>\n",
       "      <td>C0000003</td>\n",
       "    </tr>\n",
       "    <tr>\n",
       "      <th>2</th>\n",
       "      <td>ALKEN KENYA LIMITED</td>\n",
       "      <td>C0000004</td>\n",
       "    </tr>\n",
       "    <tr>\n",
       "      <th>3</th>\n",
       "      <td>ALPINE COOLERS LTD</td>\n",
       "      <td>C0000005</td>\n",
       "    </tr>\n",
       "    <tr>\n",
       "      <th>4</th>\n",
       "      <td>SUPER XPRESS PERTOLEUM LTD</td>\n",
       "      <td>C0000006</td>\n",
       "    </tr>\n",
       "  </tbody>\n",
       "</table>\n",
       "</div>"
      ],
      "text/plain": [
       "                        SUPPLIER   BP Code\n",
       "0      AFRICA (Sky) HOLDINGS LTD  C0000002\n",
       "1  AIRTEL NETWORKS KENYA LIMITED  C0000003\n",
       "2            ALKEN KENYA LIMITED  C0000004\n",
       "3             ALPINE COOLERS LTD  C0000005\n",
       "4     SUPER XPRESS PERTOLEUM LTD  C0000006"
      ]
     },
     "execution_count": 2,
     "metadata": {},
     "output_type": "execute_result"
    }
   ],
   "source": [
    "file_name = 'SPECIAL ORDER TEMPLATE.xlsx'\n",
    "\n",
    "order = pd.read_excel(file_name, sheet_name = 'order')\n",
    "details = pd.read_excel(file_name, sheet_name = 'details')\n",
    "supp_code = pd.read_excel(file_name, sheet_name = 'supp_code')\n",
    "whse = pd.read_excel(file_name, sheet_name = 'whse')\n",
    "\n",
    "supp_code.head()"
   ]
  },
  {
   "cell_type": "code",
   "execution_count": 3,
   "id": "db8f37d5",
   "metadata": {},
   "outputs": [
    {
     "data": {
      "text/html": [
       "<div>\n",
       "<style scoped>\n",
       "    .dataframe tbody tr th:only-of-type {\n",
       "        vertical-align: middle;\n",
       "    }\n",
       "\n",
       "    .dataframe tbody tr th {\n",
       "        vertical-align: top;\n",
       "    }\n",
       "\n",
       "    .dataframe thead th {\n",
       "        text-align: right;\n",
       "    }\n",
       "</style>\n",
       "<table border=\"1\" class=\"dataframe\">\n",
       "  <thead>\n",
       "    <tr style=\"text-align: right;\">\n",
       "      <th></th>\n",
       "      <th>CODE</th>\n",
       "      <th>QUANTITY</th>\n",
       "      <th>STORE NAME</th>\n",
       "      <th>STORE CODE</th>\n",
       "    </tr>\n",
       "  </thead>\n",
       "  <tbody>\n",
       "    <tr>\n",
       "      <th>0</th>\n",
       "      <td>1111140</td>\n",
       "      <td>2</td>\n",
       "      <td>Goodlife  Greenpark Estate</td>\n",
       "      <td>131</td>\n",
       "    </tr>\n",
       "    <tr>\n",
       "      <th>1</th>\n",
       "      <td>1107642</td>\n",
       "      <td>1</td>\n",
       "      <td>Goodlife  Greenpark Estate</td>\n",
       "      <td>131</td>\n",
       "    </tr>\n",
       "  </tbody>\n",
       "</table>\n",
       "</div>"
      ],
      "text/plain": [
       "      CODE  QUANTITY                  STORE NAME  STORE CODE\n",
       "0  1111140         2  Goodlife  Greenpark Estate         131\n",
       "1  1107642         1  Goodlife  Greenpark Estate         131"
      ]
     },
     "execution_count": 3,
     "metadata": {},
     "output_type": "execute_result"
    }
   ],
   "source": [
    "order = pd.merge(order, whse, on = 'STORE NAME')\n",
    "order.head()"
   ]
  },
  {
   "cell_type": "code",
   "execution_count": 4,
   "id": "98b9d9e0",
   "metadata": {},
   "outputs": [
    {
     "data": {
      "text/html": [
       "<div>\n",
       "<style scoped>\n",
       "    .dataframe tbody tr th:only-of-type {\n",
       "        vertical-align: middle;\n",
       "    }\n",
       "\n",
       "    .dataframe tbody tr th {\n",
       "        vertical-align: top;\n",
       "    }\n",
       "\n",
       "    .dataframe thead th {\n",
       "        text-align: right;\n",
       "    }\n",
       "</style>\n",
       "<table border=\"1\" class=\"dataframe\">\n",
       "  <thead>\n",
       "    <tr style=\"text-align: right;\">\n",
       "      <th></th>\n",
       "      <th>QUANTITY</th>\n",
       "      <th>STORE NAME</th>\n",
       "      <th>STORE CODE</th>\n",
       "      <th>SUPPLIER</th>\n",
       "      <th>STATUS</th>\n",
       "      <th>CATEGORY</th>\n",
       "    </tr>\n",
       "    <tr>\n",
       "      <th>CODE</th>\n",
       "      <th></th>\n",
       "      <th></th>\n",
       "      <th></th>\n",
       "      <th></th>\n",
       "      <th></th>\n",
       "      <th></th>\n",
       "    </tr>\n",
       "  </thead>\n",
       "  <tbody>\n",
       "    <tr>\n",
       "      <th>1111140</th>\n",
       "      <td>2</td>\n",
       "      <td>Goodlife  Greenpark Estate</td>\n",
       "      <td>131</td>\n",
       "      <td>HARLEYS LIMITED</td>\n",
       "      <td>END OF LIFE</td>\n",
       "      <td>OTC</td>\n",
       "    </tr>\n",
       "    <tr>\n",
       "      <th>1107642</th>\n",
       "      <td>1</td>\n",
       "      <td>Goodlife  Greenpark Estate</td>\n",
       "      <td>131</td>\n",
       "      <td>OMAERA PHARMACEUTICALS LIMITED</td>\n",
       "      <td>ACTIVE</td>\n",
       "      <td>CHRONIC MED</td>\n",
       "    </tr>\n",
       "  </tbody>\n",
       "</table>\n",
       "</div>"
      ],
      "text/plain": [
       "         QUANTITY                  STORE NAME  STORE CODE  \\\n",
       "CODE                                                        \n",
       "1111140         2  Goodlife  Greenpark Estate         131   \n",
       "1107642         1  Goodlife  Greenpark Estate         131   \n",
       "\n",
       "                               SUPPLIER       STATUS     CATEGORY  \n",
       "CODE                                                               \n",
       "1111140                 HARLEYS LIMITED  END OF LIFE          OTC  \n",
       "1107642  OMAERA PHARMACEUTICALS LIMITED       ACTIVE  CHRONIC MED  "
      ]
     },
     "execution_count": 4,
     "metadata": {},
     "output_type": "execute_result"
    }
   ],
   "source": [
    "order = pd.merge(order, details, on = 'CODE')\n",
    "order = order.set_index(order.columns[0], drop=True)\n",
    "order.head()"
   ]
  },
  {
   "cell_type": "code",
   "execution_count": 5,
   "id": "40ac4ca6",
   "metadata": {},
   "outputs": [
    {
     "data": {
      "text/html": [
       "<div>\n",
       "<style scoped>\n",
       "    .dataframe tbody tr th:only-of-type {\n",
       "        vertical-align: middle;\n",
       "    }\n",
       "\n",
       "    .dataframe tbody tr th {\n",
       "        vertical-align: top;\n",
       "    }\n",
       "\n",
       "    .dataframe thead th {\n",
       "        text-align: right;\n",
       "    }\n",
       "</style>\n",
       "<table border=\"1\" class=\"dataframe\">\n",
       "  <thead>\n",
       "    <tr style=\"text-align: right;\">\n",
       "      <th></th>\n",
       "      <th>QUANTITY</th>\n",
       "      <th>STORE NAME</th>\n",
       "      <th>STORE CODE</th>\n",
       "      <th>SUPPLIER</th>\n",
       "      <th>STATUS</th>\n",
       "      <th>CATEGORY</th>\n",
       "      <th>BP Code</th>\n",
       "    </tr>\n",
       "  </thead>\n",
       "  <tbody>\n",
       "    <tr>\n",
       "      <th>0</th>\n",
       "      <td>2</td>\n",
       "      <td>Goodlife  Greenpark Estate</td>\n",
       "      <td>131</td>\n",
       "      <td>HARLEYS LIMITED</td>\n",
       "      <td>END OF LIFE</td>\n",
       "      <td>OTC</td>\n",
       "      <td>C0000076</td>\n",
       "    </tr>\n",
       "    <tr>\n",
       "      <th>1</th>\n",
       "      <td>1</td>\n",
       "      <td>Goodlife  Greenpark Estate</td>\n",
       "      <td>131</td>\n",
       "      <td>OMAERA PHARMACEUTICALS LIMITED</td>\n",
       "      <td>ACTIVE</td>\n",
       "      <td>CHRONIC MED</td>\n",
       "      <td>C0000434</td>\n",
       "    </tr>\n",
       "  </tbody>\n",
       "</table>\n",
       "</div>"
      ],
      "text/plain": [
       "   QUANTITY                  STORE NAME  STORE CODE  \\\n",
       "0         2  Goodlife  Greenpark Estate         131   \n",
       "1         1  Goodlife  Greenpark Estate         131   \n",
       "\n",
       "                         SUPPLIER       STATUS     CATEGORY   BP Code  \n",
       "0                 HARLEYS LIMITED  END OF LIFE          OTC  C0000076  \n",
       "1  OMAERA PHARMACEUTICALS LIMITED       ACTIVE  CHRONIC MED  C0000434  "
      ]
     },
     "execution_count": 5,
     "metadata": {},
     "output_type": "execute_result"
    }
   ],
   "source": [
    "order = pd.merge(order, supp_code, on = 'SUPPLIER')\n",
    "order.head()"
   ]
  },
  {
   "cell_type": "code",
   "execution_count": 33,
   "id": "c773d630",
   "metadata": {},
   "outputs": [],
   "source": [
    "order.to_excel('To_order.xlsx')"
   ]
  },
  {
   "cell_type": "code",
   "execution_count": null,
   "id": "e0664a8b",
   "metadata": {},
   "outputs": [],
   "source": []
  }
 ],
 "metadata": {
  "kernelspec": {
   "display_name": "Python 3 (ipykernel)",
   "language": "python",
   "name": "python3"
  },
  "language_info": {
   "codemirror_mode": {
    "name": "ipython",
    "version": 3
   },
   "file_extension": ".py",
   "mimetype": "text/x-python",
   "name": "python",
   "nbconvert_exporter": "python",
   "pygments_lexer": "ipython3",
   "version": "3.11.5"
  }
 },
 "nbformat": 4,
 "nbformat_minor": 5
}
